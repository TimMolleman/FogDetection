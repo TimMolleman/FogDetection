{
 "cells": [
  {
   "cell_type": "markdown",
   "metadata": {},
   "source": [
    "# Kriging"
   ]
  },
  {
   "cell_type": "code",
   "execution_count": null,
   "metadata": {
    "collapsed": true
   },
   "outputs": [],
   "source": [
    "import pykrige.kriging_tools as kt\n",
    "from pykrige.ok import OrdinaryKriging\n",
    "\n",
    "unique_dates = krig_df['datetime'].unique()\n",
    "meteo_list = ['wind_speed', 'air_temp', 'rel_humidity', 'dew_point']\n",
    "\n",
    "num_dates = len(unique_dates)\n",
    "c = 0\n",
    "\n",
    "for date in unique_dates:\n",
    "    print(date)\n",
    "    for variable in meteo_list:\n",
    "\n",
    "        meteo_stations = krig_df[krig_df['datetime'] == date]\n",
    "        meteo_stations = meteo_stations[meteo_stations[variable].notnull()]\n",
    "        \n",
    "        grid_lon = np.linspace(0.0, 360.0, 7)\n",
    "        grid_lat = np.linspace(-90.0, 90.0, 7)\n",
    "        \n",
    "        lon = meteo_stations['lon']\n",
    "        lat = meteo_stations['lat']\n",
    "        z = meteo_stations[variable]\n",
    "        \n",
    "        OK = OrdinaryKriging(lon, lat, z, variogram_model='linear', verbose=False,\n",
    "                     enable_plotting=False, coordinates_type='geographic')\n",
    "        \n",
    "        date_df = main_df[main_df['datetime'] == date]\n",
    "        date_df = date_df[date_df[variable].isnull()]\n",
    "        \n",
    "        for idx, row in date_df.iterrows():\n",
    "            lat_long = np.asarray(row[['lat', 'long']])\n",
    "\n",
    "            z2, ss2 = OK.execute('grid', lon, lat)\n",
    "            print(ss2)\n",
    "            \n",
    "            \n",
    "            plt.scatter(meteo_stations['lat'], meteo_stations['lon'])\n",
    "            plt.show()\n",
    "            main_df.at[idx, variable] = y_pred\n",
    "        break   \n",
    "    break\n",
    "    c += 1\n",
    "    if c % 1000 == 0:\n",
    "        print('Change for {} of the {} unique dates'.format(c, num_dates))"
   ]
  },
  {
   "cell_type": "code",
   "execution_count": null,
   "metadata": {
    "collapsed": true
   },
   "outputs": [],
   "source": [
    "import pykrige.kriging_tools as kt\n",
    "from pykrige.ok import OrdinaryKriging\n",
    "\n",
    "unique_dates = krig_df['datetime'].unique()\n",
    "meteo_list = ['wind_speed', 'air_temp', 'rel_humidity', 'dew_point']\n",
    "\n",
    "num_dates = len(unique_dates)\n",
    "c = 0\n",
    "\n",
    "for date in unique_dates:\n",
    "\n",
    "    for variable in meteo_list:\n",
    "\n",
    "        meteo_stations = krig_df[krig_df['datetime'] == date]\n",
    "        meteo_stations = meteo_stations[meteo_stations[variable].notnull()]\n",
    "        print(meteo_stations)\n",
    "        x = meteo_stations[['lat', 'lon']].as_matrix()\n",
    "        y = meteo_stations[variable]\n",
    "        \n",
    "        GPR = GaussianProcessRegressor()\n",
    "        GPR.fit(x, y)\n",
    "        \n",
    "        date_df = main_df[main_df['datetime'] == date]\n",
    "        date_df = date_df[date_df[variable].isnull()]\n",
    "        \n",
    "        for idx, row in date_df.iterrows():\n",
    "            lat_long = np.asarray(row[['lat', 'long']])\n",
    "\n",
    "            y_pred = GPR.predict(lat_long.reshape(1, -1))\n",
    "            \n",
    "            if y_pred < 0 and variable == 'wind_speed':\n",
    "                xy = [[x1, y1] for x1, y1 in zip(x,y)]\n",
    "#                 print(xy)\n",
    "                print(lat_long)\n",
    "                print(y_pred, idx, variable)\n",
    "            \n",
    "                plt.scatter(meteo_stations['lat'], meteo_stations['lon'])\n",
    "                plt.show()\n",
    "                main_df.at[idx, variable] = y_pred\n",
    "  \n",
    "\n",
    "\n",
    "    c += 1\n",
    "    if c % 1000 == 0:\n",
    "        print('Change for {} of the {} unique dates'.format(c, num_dates))"
   ]
  }
 ],
 "metadata": {
  "kernelspec": {
   "display_name": "Data_Science_36",
   "language": "python",
   "name": "other-env"
  },
  "language_info": {
   "codemirror_mode": {
    "name": "ipython",
    "version": 3
   },
   "file_extension": ".py",
   "mimetype": "text/x-python",
   "name": "python",
   "nbconvert_exporter": "python",
   "pygments_lexer": "ipython3",
   "version": "3.6.4"
  }
 },
 "nbformat": 4,
 "nbformat_minor": 2
}
