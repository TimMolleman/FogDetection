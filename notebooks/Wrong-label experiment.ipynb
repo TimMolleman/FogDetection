{
 "cells": [
  {
   "cell_type": "code",
   "execution_count": 13,
   "metadata": {
    "collapsed": true
   },
   "outputs": [],
   "source": [
    "import numpy as np\n",
    "import pandas as pd\n",
    "import os\n",
    "import torch\n",
    "import torchvision\n",
    "import torchsample\n",
    "import psycopg2\n",
    "import random\n",
    "import re\n",
    "import time\n",
    "import csv\n",
    "import copy\n",
    "import seaborn as sns\n",
    "\n",
    "from torch.autograd import Variable\n",
    "import torch.nn as nn\n",
    "import torch.optim as optim\n",
    "import torch.nn.functional as F\n",
    "import torch.utils.data as data_utils\n",
    "from torch.utils.data import DataLoader\n",
    "from torch.utils.data.dataset import Dataset\n",
    "from torch.utils.data.sampler import WeightedRandomSampler\n",
    "from torchvision import models\n",
    "from torchvision import transforms\n",
    "from torchsample import transforms as ts_transforms\n",
    "from datetime import datetime as dt\n",
    "\n",
    "from matplotlib import pyplot as plt\n",
    "from PIL import Image\n",
    "from scipy.ndimage import imread\n",
    "from sklearn.model_selection import train_test_split\n",
    "from sklearn.decomposition import PCA\n",
    "from sklearn.metrics import f1_score\n",
    "from sklearn.metrics import precision_score\n",
    "from sklearn.metrics import recall_score\n",
    "from sklearn import preprocessing\n",
    "from sklearn.gaussian_process import GaussianProcessRegressor\n",
    "\n",
    "from mpl_toolkits.mplot3d import Axes3D\n",
    "from mlxtend.evaluate import confusion_matrix\n",
    "from mlxtend.plotting import plot_confusion_matrix"
   ]
  },
  {
   "cell_type": "code",
   "execution_count": 2,
   "metadata": {
    "collapsed": true
   },
   "outputs": [],
   "source": [
    "main_df = pd.read_pickle('../data/semi-processed/before_filling_meteo')"
   ]
  },
  {
   "cell_type": "code",
   "execution_count": 3,
   "metadata": {
    "collapsed": true
   },
   "outputs": [],
   "source": [
    "schiphol_df = main_df[main_df['MeteoStationLocationID'] == 542]\n",
    "schiphol_highways = schiphol_df[schiphol_df['location_name']!= 'SCHIPHOL airport']\n",
    "eelde_df = main_df[main_df['MeteoStationLocationID'] == 506]\n",
    "eelde_highways = eelde_df[eelde_df['location_name'] != 'EELDE airport']\n",
    "highway_df = pd.concat([eelde_highways, schiphol_highways])\n",
    "highway_df = highway_df[highway_df['distanceInMeters'] < 7500]"
   ]
  },
  {
   "cell_type": "code",
   "execution_count": 4,
   "metadata": {
    "collapsed": true
   },
   "outputs": [],
   "source": [
    "unique = highway_df.drop_duplicates(['camera_name', 'distanceInMeters'])"
   ]
  },
  {
   "cell_type": "code",
   "execution_count": 5,
   "metadata": {
    "collapsed": true
   },
   "outputs": [],
   "source": [
    "cam_dict = {}\n",
    "\n",
    "for idx, row in unique.iterrows():   \n",
    "    cam_dict[row['camera_name']] = {'total_count': 0, '1-to-2': 0, '1-to-0': 0, '2-to-1': 0, '2-to-0': 0,\n",
    "                                    'distance': row['distanceInMeters']}"
   ]
  },
  {
   "cell_type": "code",
   "execution_count": 6,
   "metadata": {
    "collapsed": true
   },
   "outputs": [],
   "source": [
    "relabel_dict = {'1-to-0': 0, '1-to-2': 0, '2-to-0': 0, '2-to-1':0}\n",
    "\n",
    "with open('../data/helpers/trainhighwaylabels') as file:\n",
    "    for i,row in enumerate(file):\n",
    "\n",
    "        path, new_target = row.split(',')\n",
    "        regex = re.compile(r'ID\\d*')\n",
    "        search = re.search(regex, path)\n",
    "        ID = search.group(0)\n",
    "        cam_dict[ID]['total_count'] +=1\n",
    "        \n",
    "        regex = re.compile(r'_\\d*_\\d*.')\n",
    "        search = re.search(regex, path)\n",
    "        date = search.group(0)[1:-1]\n",
    "        \n",
    "        datetime = dt.strptime(date, '%Y%m%d_%H%M')\n",
    "        dfrow = main_df[(main_df['datetime'] == datetime) & (main_df['camera_name'] == ID)]\n",
    "        original_target =int(list(dfrow['visibility'])[0])\n",
    "        new_target = int(new_target)\n",
    "        if original_target == 1:\n",
    "            if new_target == 0:\n",
    "                cam_dict[ID]['1-to-0'] += 1\n",
    "                relabel_dict['1-to-0'] +=1\n",
    "            elif new_target == 2:\n",
    "                cam_dict[ID]['1-to-2'] += 1\n",
    "                relabel_dict['1-to-2'] += 1\n",
    "                \n",
    "        elif original_target == 2:\n",
    "            if new_target == 0:\n",
    "                cam_dict[ID]['2-to-0'] += 1\n",
    "                relabel_dict['2-to-0'] += 1\n",
    "            elif new_target == 1:\n",
    "                cam_dict[ID]['2-to-1'] += 1 \n",
    "                relabel_dict['2-to-1'] += 1\n",
    "    \n",
    "    file.close()"
   ]
  },
  {
   "cell_type": "code",
   "execution_count": 7,
   "metadata": {},
   "outputs": [],
   "source": [
    "counts, distances = [], []\n",
    "\n",
    "for key, values in cam_dict.items():\n",
    "    counts.append(values['total_count'])\n",
    "    distances.append(values['distance'])"
   ]
  },
  {
   "cell_type": "markdown",
   "metadata": {},
   "source": [
    "## Plots"
   ]
  },
  {
   "cell_type": "code",
   "execution_count": 29,
   "metadata": {},
   "outputs": [
    {
     "data": {
      "image/png": "[encoded data removed]",
      "text/plain": [
       "<matplotlib.figure.Figure at 0x1a28c7f7f0>"
      ]
     },
     "metadata": {},
     "output_type": "display_data"
    }
   ],
   "source": [
    "# Scatterplot\n",
    "# plt.scatter(distances, counts)\n",
    "df = pd.DataFrame({'distances': distances, 'counts': counts})\n",
    "sns.regplot(x='distances',y='counts', data=df)\n",
    "plt.xlabel('Distance in Meters')\n",
    "plt.ylabel('Count of Relabeled Fog Images')\n",
    "plt.title('Number of relabeled images per camera based on distance')\n",
    "plt.show()"
   ]
  },
  {
   "cell_type": "code",
   "execution_count": 10,
   "metadata": {},
   "outputs": [
    {
     "data": {
      "text/plain": [
       "array([[ 1.        , -0.25011268],\n",
       "       [-0.25011268,  1.        ]])"
      ]
     },
     "execution_count": 10,
     "metadata": {},
     "output_type": "execute_result"
    }
   ],
   "source": [
    "np.corrcoef(distances, counts)"
   ]
  },
  {
   "cell_type": "code",
   "execution_count": 112,
   "metadata": {},
   "outputs": [
    {
     "data": {
      "image/png": "[encoded data removed]",
      "text/plain": [
       "<matplotlib.figure.Figure at 0x1a2543f630>"
      ]
     },
     "metadata": {},
     "output_type": "display_data"
    }
   ],
   "source": [
    "# Barplot\n",
    "plt.bar(range(len(relabel_dict)), relabel_dict.values(), align='center')\n",
    "plt.xticks([0, 1, 2, 3], ['Light -> No', 'Light -> Dense ', 'Dense -> No', 'Dense -> Light'])\n",
    "plt.show()"
   ]
  },
  {
   "cell_type": "code",
   "execution_count": 8,
   "metadata": {},
   "outputs": [
    {
     "data": {
      "text/plain": [
       "{'1-to-0': 187, '1-to-2': 822, '2-to-0': 29, '2-to-1': 422}"
      ]
     },
     "execution_count": 8,
     "metadata": {},
     "output_type": "execute_result"
    }
   ],
   "source": [
    "relabel_dict"
   ]
  },
  {
   "cell_type": "code",
   "execution_count": null,
   "metadata": {
    "collapsed": true
   },
   "outputs": [],
   "source": []
  }
 ],
 "metadata": {
  "kernelspec": {
   "display_name": "Data_Science_36",
   "language": "python",
   "name": "other-env"
  },
  "language_info": {
   "codemirror_mode": {
    "name": "ipython",
    "version": 3
   },
   "file_extension": ".py",
   "mimetype": "text/x-python",
   "name": "python",
   "nbconvert_exporter": "python",
   "pygments_lexer": "ipython3",
   "version": "3.6.4"
  }
 },
 "nbformat": 4,
 "nbformat_minor": 2
}
