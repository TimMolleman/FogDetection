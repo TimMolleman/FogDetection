{
 "cells": [
  {
   "cell_type": "code",
   "execution_count": 141,
   "metadata": {
    "collapsed": true
   },
   "outputs": [],
   "source": [
    "import numpy as np\n",
    "import pandas as pd\n",
    "import os\n",
    "import torch\n",
    "import torchvision\n",
    "import torchsample\n",
    "import psycopg2\n",
    "import random\n",
    "import re\n",
    "import time\n",
    "import csv\n",
    "import copy\n",
    "import itertools\n",
    "\n",
    "from torch.autograd import Variable\n",
    "import torch.nn as nn\n",
    "import torch.optim as optim\n",
    "import torch.nn.functional as F\n",
    "import torch.utils.data as data_utils\n",
    "from torch.utils.data import DataLoader\n",
    "from torch.utils.data.dataset import Dataset\n",
    "from torch.utils.data.sampler import WeightedRandomSampler\n",
    "from torchvision import models\n",
    "from torchvision import transforms\n",
    "from torchsample import transforms as ts_transforms\n",
    "\n",
    "from matplotlib import pyplot as plt\n",
    "from PIL import Image\n",
    "from scipy.ndimage import imread\n",
    "from sklearn.model_selection import train_test_split\n",
    "from sklearn.decomposition import PCA\n",
    "from sklearn.metrics import f1_score\n",
    "from sklearn.metrics import precision_score\n",
    "from sklearn.metrics import recall_score\n",
    "from sklearn import preprocessing\n",
    "from sklearn.gaussian_process import GaussianProcessRegressor\n",
    "from sklearn.metrics import confusion_matrix\n",
    "\n",
    "# from mpl_toolkits.mplot3d import Axes3D\n",
    "# from mlxtend.evaluate import confusion_matrix\n",
    "# from mlxtend.plotting import plot_confusion_matrix"
   ]
  },
  {
   "cell_type": "markdown",
   "metadata": {},
   "source": [
    "## Necessary Classes for Testing Meteo Models"
   ]
  },
  {
   "cell_type": "code",
   "execution_count": 19,
   "metadata": {
    "collapsed": true
   },
   "outputs": [],
   "source": [
    "class meteo_NN(nn.Module):\n",
    "    def __init__(self, input_size, hidden_size, output_size):\n",
    "        super(meteo_NN, self).__init__()\n",
    "        self.fc1 = nn.Linear(input_size, hidden_size)\n",
    "        self.relu = nn.ReLU()\n",
    "        self.fc2 = nn.Linear(hidden_size, output_size)\n",
    "    \n",
    "    def forward(self, x):\n",
    "        x = self.fc1(x)\n",
    "        x = self.relu(x)\n",
    "        x = self.fc2(x)\n",
    "        return x"
   ]
  },
  {
   "cell_type": "code",
   "execution_count": 38,
   "metadata": {
    "collapsed": true
   },
   "outputs": [],
   "source": [
    "class resnet18_meteo(nn.Module):\n",
    "    def __init__(self, resnet18, meteo_NN, num_classes):\n",
    "        super(resnet18_meteo, self).__init__()\n",
    "        \n",
    "        # Respectively a torchvision resnet-18 and a 1-hidden layer NN\n",
    "        self.resnet_CNN = resnet18\n",
    "        self.meteo_net = meteo_NN\n",
    "        \n",
    "        # Sizes of the FC layers of both NN's\n",
    "        self.len_fc_resnet = self.resnet_CNN.fc.in_features\n",
    "        self.len_fc_meteo = self.meteo_net.fc2.out_features\n",
    "        \n",
    "        # Extract convolutional block out of predefined network\n",
    "        self.modules=list(self.resnet_CNN.children())[:-1]\n",
    "        self.resnet18_convblocks= nn.Sequential(*self.modules)\n",
    "        \n",
    "        self.fc = nn.Linear(self.len_fc_resnet + self.len_fc_meteo, num_classes)\n",
    "\n",
    "    def forward(self, img_x, meteo_x):\n",
    "        \n",
    "        # Both should be flattened layers at end of networks\n",
    "        img_x = self.resnet18_convblocks(img_x)\n",
    "        meteo_x = self.meteo_net(meteo_x)\n",
    "\n",
    "        # Flatten convolutional features\n",
    "        img_x_flattened = img_x.view(img_x.size(0), -1)\n",
    "\n",
    "        # Concat the outputs of CNN and meteo-NN in fully connected layer\n",
    "        out = torch.cat([img_x_flattened, meteo_x], dim=1)\n",
    "\n",
    "        out = self.fc(out)\n",
    "        return out   "
   ]
  },
  {
   "cell_type": "code",
   "execution_count": 39,
   "metadata": {
    "collapsed": true
   },
   "outputs": [],
   "source": [
    "class simple_CNN(nn.Module):\n",
    "    def __init__(self):\n",
    "        super(simple_CNN, self).__init__()\n",
    "        self.conv1 = nn.Sequential(         # input shape (1, 28, 28)\n",
    "            nn.Conv2d(\n",
    "                in_channels=3,              # input height\n",
    "                out_channels=32,            # n_filters\n",
    "                kernel_size=3,              # filter size\n",
    "                stride=1,                   # filter movement/step\n",
    "                padding=2,                  # if want same width and length of this image after con2d, padding=(kernel_size-1)/2 if stride=1\n",
    "            ),                              # output shape (16, 28, 28)\n",
    "            nn.ReLU(),                      # activation\n",
    "            nn.MaxPool2d(kernel_size=2),    # choose max value in 2x2 area, output shape (16, 14, 14)\n",
    "        )\n",
    "        self.conv2 = nn.Sequential(         # input shape (16, 14, 14)\n",
    "            nn.Conv2d(32, 32, 3, 1, 2),     # output shape (32, 14, 14)\n",
    "            nn.ReLU(),                      # activation\n",
    "            nn.MaxPool2d(2),                # output shape (32, 7, 7)\n",
    "        )\n",
    "        self.conv3 = nn.Sequential(         # input shape (16, 14, 14)\n",
    "            nn.Conv2d(32, 32, 3, 1, 2),     # output shape (32, 14, 14)\n",
    "            nn.ReLU(),                      # activation\n",
    "            nn.MaxPool2d(2),                # output shape (32, 7, 7)\n",
    "        )\n",
    "        self.conv4 = nn.Sequential(\n",
    "            nn.Conv2d(32, 16, 3, 1, 2),\n",
    "            nn.ReLU(),\n",
    "            nn.MaxPool2d(2)\n",
    "        )     \n",
    "        self.dropout = nn.Dropout(p=0.5)\n",
    "        self.out = nn.Linear(576, 3)   # fully connected layer, output 3 classes\n",
    "\n",
    "    def forward(self, x):\n",
    "        x = self.conv1(x)\n",
    "        x = self.conv2(x)\n",
    "        x = self.conv3(x)\n",
    "        x = self.conv4(x)\n",
    "\n",
    "        x = x.view(x.size(0), -1)           # flatten the output of conv2 to (batch_size, 32 * 7 * 7)\n",
    "        x = self.dropout(x) \n",
    "        output = self.out(x)\n",
    "        return output   # return x for visualization"
   ]
  },
  {
   "cell_type": "markdown",
   "metadata": {},
   "source": [
    "## Helpers"
   ]
  },
  {
   "cell_type": "markdown",
   "metadata": {},
   "source": [
    "### Certain/uncertain plot"
   ]
  },
  {
   "cell_type": "markdown",
   "metadata": {},
   "source": [
    "### Most Uncertain Images"
   ]
  },
  {
   "cell_type": "code",
   "execution_count": 119,
   "metadata": {},
   "outputs": [],
   "source": [
    "def plot_most_uncertain(outputs, corrects, predictions, loss, a, k=15):\n",
    "    loss_differences = []\n",
    "\n",
    "    for i, output in enumerate(outputs):\n",
    "        if corrects[i] == a:\n",
    "            values, top2_idx = torch.topk(output, 2)\n",
    "            top2 = output[top2_idx]\n",
    "            difference = top2[0] - top2[1]\n",
    "            loss_differences.append(difference.data[0])\n",
    "        else:\n",
    "            loss_differences.append(1000)\n",
    "\n",
    "    loss_differences = np.asarray(loss_differences)\n",
    "    indices = np.argsort(loss_differences)[:k]\n",
    "\n",
    "    for idx in indices:\n",
    "        print(test_filepaths[idx])\n",
    "        plt.imshow(test_features[idx])\n",
    "        plt.title('target: {} prediction: {} loss: {:.2f}'.format(test_targets[idx], predictions[idx], loss.data[idx]))\n",
    "        plt.show()"
   ]
  },
  {
   "cell_type": "markdown",
   "metadata": {},
   "source": [
    "### CM Matrix"
   ]
  },
  {
   "cell_type": "code",
   "execution_count": 23,
   "metadata": {
    "collapsed": true
   },
   "outputs": [],
   "source": [
    " # Confusion matrix helper\n",
    "def show_cm(targets, predictions):\n",
    "    cm = confusion_matrix(y_target=targets, \n",
    "                      y_predicted=predictions, \n",
    "                      binary=False)\n",
    "\n",
    "    fig, ax = plot_confusion_matrix(conf_mat=cm)\n",
    "    plt.show()"
   ]
  },
  {
   "cell_type": "code",
   "execution_count": 150,
   "metadata": {
    "collapsed": true
   },
   "outputs": [],
   "source": [
    "def plot_confusion_matrix(cm,\n",
    "                          title='Confusion matrix',\n",
    "                          cmap=plt.cm.Blues):\n",
    "    \"\"\"\n",
    "    This function prints and plots the confusion matrix.\n",
    "    Normalization can be applied by setting `normalize=True`.\n",
    "    \"\"\"\n",
    "    \n",
    "    classes = ['no fog', 'light fog', 'dense fog']\n",
    "\n",
    "    plt.imshow(cm, interpolation='nearest', cmap=cmap)\n",
    "#     plt.title(title)\n",
    "#     plt.colorbar()\n",
    "    tick_marks = np.arange(len(classes))\n",
    "    plt.xticks(tick_marks, classes, rotation=45)\n",
    "    plt.yticks(tick_marks, classes)\n",
    "\n",
    "    fmt = 'd'\n",
    "    thresh = cm.max() / 2.\n",
    "    for i, j in itertools.product(range(cm.shape[0]), range(cm.shape[1])):\n",
    "        plt.text(j, i, format(cm[i, j], fmt),\n",
    "                 horizontalalignment=\"center\",\n",
    "                 color=\"white\" if cm[i, j] > thresh else \"black\")\n",
    "\n",
    "    plt.tight_layout()\n",
    "    plt.ylabel('True label')\n",
    "    plt.xlabel('Predicted label')\n",
    "\n",
    "def show_cm(targets, predictions):\n",
    "    \n",
    "    cnf_matrix = confusion_matrix(targets, predictions)\n",
    "    np.set_printoptions(precision=2)\n",
    "    \n",
    "    # Plot non-normalized confusion matrix\n",
    "    plt.figure()\n",
    "    plot_confusion_matrix(cnf_matrix, title='Confusion matrix')\n",
    "    plt.show()"
   ]
  },
  {
   "cell_type": "markdown",
   "metadata": {},
   "source": [
    "### Dataset"
   ]
  },
  {
   "cell_type": "code",
   "execution_count": 128,
   "metadata": {
    "collapsed": true
   },
   "outputs": [],
   "source": [
    "class KNMIDataset(Dataset):\n",
    "    def __init__(self, images, targets, filepaths, meteo=None, transforms=None):\n",
    "    \n",
    "        self.transforms = transforms\n",
    "        self.images = images\n",
    "        self.targets = targets\n",
    "        self.filepaths = filepaths\n",
    "        self.meteo = meteo\n",
    "\n",
    "    def __getitem__(self, index):\n",
    "        image = self.images[index]\n",
    "        target = self.targets[index]\n",
    "        filepath = self.filepaths[index]\n",
    "        \n",
    "        if self.transforms != None:\n",
    "            image = self.transforms(image)\n",
    "        if len(self.meteo) > 0:\n",
    "            meteo = self.meteo[index]\n",
    "            return (image, target, index, filepath, meteo)\n",
    "        else:\n",
    "            return (image, target, index, filepath)\n",
    "        \n",
    "\n",
    "    def __len__(self):\n",
    "        return len(self.targets)"
   ]
  },
  {
   "cell_type": "markdown",
   "metadata": {},
   "source": [
    "### Transforms"
   ]
  },
  {
   "cell_type": "code",
   "execution_count": 129,
   "metadata": {
    "collapsed": true
   },
   "outputs": [],
   "source": [
    "data_transforms = {\n",
    "    'train': transforms.Compose([\n",
    "        transforms.ToPILImage(),\n",
    "        transforms.RandomCrop(80),\n",
    "        transforms.RandomHorizontalFlip(),\n",
    "        transforms.ToTensor(),\n",
    "        transforms.Normalize([0.485, 0.456, 0.406], [0.229, 0.224, 0.225])\n",
    "    ]),\n",
    "    'validation': transforms.Compose([\n",
    "        transforms.ToPILImage(),\n",
    "        transforms.CenterCrop(80),\n",
    "        transforms.ToTensor(),\n",
    "        transforms.Normalize([0.485, 0.456, 0.406], [0.229, 0.224, 0.225])\n",
    "    ]),\n",
    "}"
   ]
  },
  {
   "cell_type": "markdown",
   "metadata": {},
   "source": [
    "### Avg Accuracy"
   ]
  },
  {
   "cell_type": "code",
   "execution_count": 130,
   "metadata": {
    "collapsed": true
   },
   "outputs": [],
   "source": [
    "def get_average_accuracy(predictions, targets):\n",
    "  \n",
    "    # Lists for holding corrects\n",
    "    no_fog_correct = 0\n",
    "    light_fog_correct = 0\n",
    "    dense_fog_correct = 0\n",
    "\n",
    "    for pred, target in zip(predictions, targets):\n",
    "        if pred == 0 and target == 0:\n",
    "            no_fog_correct += 1\n",
    "        elif pred == 1 and target == 1:\n",
    "            light_fog_correct += 1\n",
    "        elif pred == 2 and target == 2:\n",
    "            dense_fog_correct += 1\n",
    "\n",
    "    # Validation counts\n",
    "    total = np.bincount(test_targets)\n",
    "    no_fog_total = total[0]\n",
    "    light_fog_total = total[1]\n",
    "    dense_fog_total = total[2]\n",
    "\n",
    "    # Accuracy per class\n",
    "    acc_no_fog = no_fog_correct / no_fog_total\n",
    "    acc_light = light_fog_correct / light_fog_total\n",
    "    acc_dense = dense_fog_correct / dense_fog_total\n",
    "\n",
    "    average_acc = (acc_no_fog + acc_light + acc_dense) / 3 * 100\n",
    "\n",
    "    return average_acc"
   ]
  },
  {
   "cell_type": "markdown",
   "metadata": {},
   "source": [
    "### Loss Curve Plotting"
   ]
  },
  {
   "cell_type": "code",
   "execution_count": 173,
   "metadata": {
    "collapsed": true
   },
   "outputs": [],
   "source": [
    "def plot_loss_curves(training_loss, validation_loss):\n",
    "    \"\"\"\n",
    "    Plots loss curves after model training.\n",
    "    \n",
    "    :param training_loss: List with training loss for every epoch.\n",
    "    :param validation_loss: List with validation loss for every epoch.\n",
    "    \"\"\"\n",
    "    train_plot, = plt.plot(training_loss, label='Training')\n",
    "    val_plot, = plt.plot(validation_loss, label='Validation')\n",
    "#     plt.title('Loss curves (training/validation)')\n",
    "    plt.xlabel('Epoch')\n",
    "    plt.ylabel('Loss')\n",
    "    plt.legend(handles=[train_plot, val_plot])\n",
    "    plt.show()"
   ]
  },
  {
   "cell_type": "markdown",
   "metadata": {},
   "source": [
    "## Load Test Arrays (Non-Meteo)"
   ]
  },
  {
   "cell_type": "code",
   "execution_count": 195,
   "metadata": {},
   "outputs": [],
   "source": [
    "test_features = np.load('/Volumes/TIMPP/UnusedKNMI/numpyfiles/test_refined/NoMeteo/test_images.npy')\n",
    "test_targets = np.load('/Volumes/TIMPP/UnusedKNMI/numpyfiles/test_refined/NoMeteo/test_targets.npy')\n",
    "test_filepaths = np.load('/Volumes/TIMPP/UnusedKNMI/numpyfiles/test_refined/NoMeteo/test_filepaths.npy')"
   ]
  },
  {
   "cell_type": "markdown",
   "metadata": {},
   "source": [
    "## Load Test Arrays (IDW)"
   ]
  },
  {
   "cell_type": "code",
   "execution_count": 207,
   "metadata": {},
   "outputs": [],
   "source": [
    "test_features = np.load('/Volumes/TIMPP/UnusedKNMI/numpyfiles/test_refined/MeteoValTestInterpolation(ver2)/test_images_meteo_IDW.npy')\n",
    "test_targets = np.load('/Volumes/TIMPP/UnusedKNMI/numpyfiles/test_refined/MeteoValTestInterpolation(ver2)/test_targets_meteo_IDW.npy')\n",
    "test_filepaths = np.load('/Volumes/TIMPP/UnusedKNMI/numpyfiles/test_refined/MeteoValTestInterpolation(ver2)/test_filepaths_meteo_IDW.npy')\n",
    "test_meteo = np.load('/Volumes/TIMPP/UnusedKNMI/numpyfiles/test_refined/MeteoValTestInterpolation(ver2)/test_meteo_meteo_IDW.npy')"
   ]
  },
  {
   "cell_type": "markdown",
   "metadata": {},
   "source": [
    "## Load Test Arrays (harmonie)"
   ]
  },
  {
   "cell_type": "code",
   "execution_count": 84,
   "metadata": {
    "collapsed": true
   },
   "outputs": [],
   "source": [
    "test_features = np.load('/Volumes/TIMPP/UnusedKNMI/numpyfiles/test_refined/harmonie/test_images_harmonie.npy')\n",
    "test_targets = np.load('/Volumes/TIMPP/UnusedKNMI/numpyfiles/test_refined/harmonie/test_targets_harmonie.npy')\n",
    "test_filepaths = np.load('/Volumes/TIMPP/UnusedKNMI/numpyfiles/test_refined/harmonie/test_filepaths_harmonie.npy')\n",
    "test_meteo = np.load('/Volumes/TIMPP/UnusedKNMI/numpyfiles/test_refined/harmonie/test_meteo_harmonie.npy')"
   ]
  },
  {
   "cell_type": "markdown",
   "metadata": {},
   "source": [
    "## Function That Loads Models to Test"
   ]
  },
  {
   "cell_type": "code",
   "execution_count": 134,
   "metadata": {
    "collapsed": true
   },
   "outputs": [],
   "source": [
    "def load_model(filepath):\n",
    "    '''\n",
    "    Loads a trained model.\n",
    "    \n",
    "    :param filepath: Path to the trained model.\n",
    "    '''\n",
    "    loaded_model = torch.load(filepath, map_location=lambda storage, loc: storage)\n",
    "\n",
    "    \n",
    "    return loaded_model"
   ]
  },
  {
   "cell_type": "markdown",
   "metadata": {},
   "source": [
    "### Test Dataset and Dataloader"
   ]
  },
  {
   "cell_type": "code",
   "execution_count": 196,
   "metadata": {
    "collapsed": true
   },
   "outputs": [],
   "source": [
    "test_dataset = KNMIDataset(test_features, test_targets, test_filepaths, test_meteo,transforms=data_transforms['validation'])\n",
    "test_dataloader = DataLoader(dataset=test_dataset, batch_size=len(test_features),shuffle=False)"
   ]
  },
  {
   "cell_type": "markdown",
   "metadata": {},
   "source": [
    "## Load Model of Interest"
   ]
  },
  {
   "cell_type": "code",
   "execution_count": 211,
   "metadata": {},
   "outputs": [
    {
     "name": "stdout",
     "output_type": "stream",
     "text": [
      "Best overall accuracy: 98.78%.\n",
      "Best average accuracy: 90.98%. At epoch 10\n",
      "Best f1-macro: 0.751. At epoch 38\n",
      "Confusion Matrix best avg accuracy validation:\n"
     ]
    },
    {
     "data": {
      "image/png": "[encoded data removed]",
      "text/plain": [
       "<matplotlib.figure.Figure at 0x1a2914d3c8>"
      ]
     },
     "metadata": {},
     "output_type": "display_data"
    },
    {
     "data": {
      "image/png": "[encoded data removed]",
      "text/plain": [
       "<matplotlib.figure.Figure at 0x1a2914dc50>"
      ]
     },
     "metadata": {},
     "output_type": "display_data"
    }
   ],
   "source": [
    "TRAINED_MODELS_DIR = '/Volumes/TIMPP/TrainedModels'\n",
    "\n",
    "# Experiment 1\n",
    "# checkpoint = load_model(TRAINED_MODELS_DIR + '/Experiment1/new_images/highway/tune2new/completed_tuner2.pth.tar')\n",
    "# checkpoint = load_model(TRAINED_MODELS_DIR + '/Experiment1/new_images/highway/ownnetwork/ownnet.pth.tar')\n",
    "\n",
    "# checkpoint = load_model(TRAINED_MODELS_DIR + '/Experiment1/new_images/highway+knmi2/tune2/completed_tuner2.pth.tar')\n",
    "# checkpoint = load_model(TRAINED_MODELS_DIR + '/Experiment1/new_images/knmi/tune2/completed_tuner2.pth.tar')\n",
    "# checkpoint = load_model(TRAINED_MODELS_DIR + '/Experiment1/new_images/highway(noChange)/tune2/completed_tuner2.pth.tar')\n",
    "\n",
    "# Experiment 2\n",
    "checkpoint = load_model(TRAINED_MODELS_DIR + '/Experiment2/IDW/16nodes/tune2/completed_tuner2.pth.tar')\n",
    "# checkpoint = load_model(TRAINED_MODELS_DIR + '/Experiment2/harmonie/32nodes/tune2/completed_tuner2.pth.tar')\n",
    "\n",
    "# Meteo only\n",
    "# checkpoint = load_model(TRAINED_MODELS_DIR + '/Experiment2/IDW/16nodes/meteonet/meteonet.pth.tar')\n",
    "\n",
    "model_f1 = checkpoint['best_model_f1']\n",
    "model_avg = checkpoint['best_model_avg']\n",
    "\n",
    "# Get stats\n",
    "best_epoch_f1, best_epoch_avg = checkpoint['best_epoch_f1'], checkpoint['best_epoch_avg']\n",
    "best_f1_value, best_avg_value = checkpoint['best_f1'], checkpoint['best_avg_acc']\n",
    "print('Best overall accuracy: {:.2f}%.'.format(checkpoint['best_accuracy']))\n",
    "print('Best average accuracy: {:.2f}%. At epoch {}'.format(best_avg_value, best_epoch_avg))\n",
    "print('Best f1-macro: {:.3f}. At epoch {}'.format(best_f1_value, best_epoch_f1))\n",
    "\n",
    "try:\n",
    "#     print('Confusion Matrix best f1-macro validation:')\n",
    "#     show_cm(checkpoint['f1_val_targets'], checkpoint['f1_val_preds'])\n",
    "\n",
    "    print('Confusion Matrix best avg accuracy validation:')\n",
    "    show_cm(checkpoint['avg_val_targets'], checkpoint['avg_val_preds'])\n",
    "except:\n",
    "    pass\n",
    "\n",
    "train_loss = checkpoint['train_loss']\n",
    "validation_loss = checkpoint['validation_loss']\n",
    "plot_loss_curves(train_loss, validation_loss)"
   ]
  },
  {
   "cell_type": "markdown",
   "metadata": {},
   "source": [
    "## Test Model Function"
   ]
  },
  {
   "cell_type": "markdown",
   "metadata": {},
   "source": [
    "### Test the Model"
   ]
  },
  {
   "cell_type": "code",
   "execution_count": 213,
   "metadata": {
    "scrolled": true
   },
   "outputs": [
    {
     "name": "stdout",
     "output_type": "stream",
     "text": [
      "Confusion matrix test set average accuracy:\n",
      "Test stats\n",
      "Overall accuracy: 92.66%\n",
      "Average accuracy: 92.66%\n",
      "f1-macro:0.927\n",
      "f1-micro: 0.927\n"
     ]
    },
    {
     "data": {
      "image/png": "[encoded data removed]",
      "text/plain": [
       "<matplotlib.figure.Figure at 0x1093a9b70>"
      ]
     },
     "metadata": {},
     "output_type": "display_data"
    }
   ],
   "source": [
    "def test_model(model, dataloader, nettype):\n",
    "    \"\"\"\n",
    "    Tests a specified model on all the manually labeled highway camera\n",
    "    images. \n",
    "    \n",
    "    :param model: Trained model to evaluate\n",
    "    :param test_features: All test features as tensor\n",
    "    :param test_targets: All test labels as tensor\n",
    "    \"\"\"\n",
    "    \n",
    "    test_images, test_targets, idx, test_filepaths, meteo = next(iter(dataloader))\n",
    "    \n",
    "    # Loss criterion\n",
    "    criterion = nn.CrossEntropyLoss(reduce=False)\n",
    "    \n",
    "    # Wrap tensors\n",
    "    features = Variable(test_images)\n",
    "    targets = Variable(test_targets)\n",
    "    meteo = Variable(meteo.type(torch.FloatTensor))\n",
    "    total = len(targets)\n",
    "    \n",
    "    if nettype == 'meteo':\n",
    "        outputs = model(meteo)\n",
    "    elif nettype == 'images':\n",
    "        outputs = model(features)\n",
    "    elif nettype == 'merged':\n",
    "        outputs = model(features, meteo)\n",
    "    \n",
    "    # Loss and optimization\n",
    "    loss = criterion(outputs, targets)\n",
    "    \n",
    "    # Get test predictions and number of correct predictions\n",
    "    _, predictions = torch.max(outputs.data, 1) \n",
    "    correct = torch.sum(predictions == targets.data)  \n",
    "    corrects = predictions == targets.data\n",
    "    \n",
    "#     plot_most_uncertain(outputs, corrects, predictions, loss, 0, k=20)\n",
    "    \n",
    "#     for i, cor in enumerate(corrects):\n",
    "#         if predictions[i] == 1 and cor == 0:\n",
    "#             print(test_filepaths[i])\n",
    "#             print(test_targets[i])\n",
    "#             img = test_features[i]\n",
    "#             plt.imshow(img)\n",
    "#             plt.show()\n",
    "             \n",
    "    image_indices = list(range(0, total))\n",
    "#     plot_images(loss, image_indices, test_filepaths, targets, predictions, phase='test', amount=50)\n",
    "    \n",
    "    test_accuracy = correct / total * 100\n",
    "    avg_accuracy = get_average_accuracy(targets.data.numpy(), predictions.numpy())\n",
    "\n",
    "    f1_macro = f1_score(targets.data.numpy(), predictions.numpy(), average='macro')\n",
    "    f1_micro = f1_score(targets.data.numpy(), predictions.numpy(), average='micro')\n",
    "    \n",
    "    print('Test stats\\nOverall accuracy: {:.2f}%\\n'\n",
    "          'Average accuracy: {:.2f}%\\nf1-macro:' \n",
    "          '{:.3f}\\nf1-micro: {:.3f}'.format(test_accuracy, avg_accuracy,\n",
    "                                            f1_macro, f1_micro))\n",
    "    \n",
    "    show_cm(list(targets.data), list(predictions))\n",
    "\n",
    "# print('Confusion matrix test set f1 macro:')\n",
    "# test_model(model_f1, test_dataloader)\n",
    "print('Confusion matrix test set average accuracy:')\n",
    "test_model(model_avg, test_dataloader, 'merged')"
   ]
  },
  {
   "cell_type": "code",
   "execution_count": 82,
   "metadata": {
    "collapsed": true
   },
   "outputs": [],
   "source": [
    "def plot_images(loss, image_index, filepaths, targets, predictions, phase, amount=15):\n",
    "    \"\"\"\n",
    "    Use to plot images that the model is most certain about and which it was most uncertain about.\n",
    "    \n",
    "    :param loss: Tensor that has size of batch containing loss\n",
    "    :param filepaths: List with filepaths that point to where batch images are located\n",
    "    :param amount: Amount of images to show. Default: 1\n",
    "    \"\"\"\n",
    "    \n",
    "    def loop_plot(indices, targets, predictions, filepaths, losses, phase, amount):    \n",
    "        fig=plt.figure(figsize=(20, amount))\n",
    "        columns = 5\n",
    "        rows = amount / 5\n",
    "        \n",
    "        # Determine phase and get image np array\n",
    "        if phase == 'train':\n",
    "            image_array = X_train\n",
    "        elif phase == 'validation':\n",
    "            image_array = X_validation\n",
    "        else:\n",
    "            image_array = test_features\n",
    "        print(filepaths)\n",
    "        # Loop over the data and plot 'amount' of images\n",
    "        for i, (index, target, prediction, loss) in enumerate(zip(indices, targets, predictions, losses)):\n",
    "            img = image_array[index]\n",
    "            fig.add_subplot(rows, columns, i + 1)\n",
    "            plt.title('target: {}, prediction: {} loss: {:.2f}'.format(target, prediction, loss))\n",
    "            plt.imshow(img)\n",
    "      \n",
    "        plt.show()\n",
    "    \n",
    "    def get_k_and_plot(loss, amount, targets, image_index, filepaths, predictions, phase, largest=True):\n",
    "        # Get all relevant data\n",
    "        values, indices = torch.topk(loss, amount, largest=largest)\n",
    "        targets = [targets[i].data[0] for i in list(indices.data.cpu().numpy().reshape((1, -1))[0])]\n",
    "        images_idx = [image_index[i] for i in list(indices.data.cpu().numpy().reshape((1, -1))[0])]\n",
    "        filepaths = [filepaths[i] for i in list(indices.data.cpu().numpy().reshape((1, -1))[0])]\n",
    "        predictions = [predictions[i] for i in list(indices.data.cpu().numpy().reshape((1, -1))[0])]\n",
    "        loss = [loss.data[i] for i in list(indices.data.cpu().numpy().reshape((1, -1))[0])]\n",
    "\n",
    "        # Show images (uncertain/certain)\n",
    "        loop_plot(images_idx, targets, predictions, filepaths, loss, phase, amount)\n",
    "\n",
    "    print('Top {} most uncertain images'.format(amount))\n",
    "    get_k_and_plot(loss, amount, targets, image_index, filepaths, predictions, phase, largest=True)\n",
    "\n",
    "    \n",
    "    print('Top {} most certain images'.format(amount))\n",
    "    get_k_and_plot(loss, amount, targets, image_index, filepaths, predictions, phase, largest=False)"
   ]
  },
  {
   "cell_type": "code",
   "execution_count": 104,
   "metadata": {},
   "outputs": [
    {
     "name": "stdout",
     "output_type": "stream",
     "text": [
      "There is no significant performance in accuracy between model 1 (p1 = 0.9266) and model 2 (0.9104).\n",
      "z = 1.188 with p-value: 0.117\n"
     ]
    }
   ],
   "source": [
    "import scipy.stats\n",
    "def perform_ztest(p1, p2, n, bonferonni):\n",
    "    '''\n",
    "    Performs pairwise Z-test on two accuracies for the test sets. \n",
    "    \n",
    "    :param p1: Accuracy of model 1\n",
    "    :param p2: Accuracy of model 2\n",
    "    :param n: Number of samples for model 1 and model 2 (same in our case)\n",
    "    :param bonferonni: Positive integer determining number of pairwise z-tests perormed\n",
    "    '''\n",
    "    # Determine significance level\n",
    "    alpha = 0.05 / bonferonni\n",
    "    \n",
    "    # Statistics\n",
    "    Z = (p1 - p2) / np.sqrt(((p1 * (1 - p1)) / n ) + ((p2 * (1 - p2)) / n))\n",
    "    p = scipy.stats.norm.sf(abs(Z))\n",
    "\n",
    "    if p > alpha:\n",
    "        print('There is no significant performance in accuracy between model 1 (p1 = {}) and model 2 ({}).\\n'\n",
    "        'z = {:.3f} with p-value: {:.3f}'.format(p1, p2, Z, p))\n",
    "    else:\n",
    "         print('There is a significant difference in accuracy between model 1 (p2 = {}) and model 2 ({}).\\n'\n",
    "       'z = {:2f} with p-value: {:.3f}'.format(p1, p2, Z, p))\n",
    "    \n",
    "    \n",
    "perform_ztest(0.9266, 0.9104, len(test_targets), 5)"
   ]
  },
  {
   "cell_type": "code",
   "execution_count": 219,
   "metadata": {},
   "outputs": [
    {
     "data": {
      "text/plain": [
       "102.0"
      ]
     },
     "execution_count": 219,
     "metadata": {},
     "output_type": "execute_result"
    }
   ],
   "source": [
    "Hin = 100\n",
    "padding = 2\n",
    "dilation = 1\n",
    "kernel_size = 3\n",
    "stride = 1\n",
    "\n",
    "out_bove = Hin + 2 * padding - dilation * (kernel_size - 1) - 1\n",
    "out = out_bove / stride + 1\n",
    "out"
   ]
  },
  {
   "cell_type": "code",
   "execution_count": 214,
   "metadata": {
    "collapsed": true
   },
   "outputs": [],
   "source": [
    "class shallow_CNN(nn.Module):\n",
    "    def __init__(self):\n",
    "        super(shallow_CNN, self).__init__()\n",
    "        self.conv1 = nn.Sequential(         \n",
    "            nn.Conv2d(\n",
    "                in_channels=3,              \n",
    "                out_channels=32,            \n",
    "                kernel_size=3,              \n",
    "                stride=1,                   \n",
    "                padding=2,                  \n",
    "            ),                              \n",
    "            nn.ReLU(),                      \n",
    "            nn.MaxPool2d(kernel_size=2),\n",
    "        )\n",
    "        self.conv2 = nn.Sequential(         \n",
    "            nn.Conv2d(32, 32, 3, 1, 2),     \n",
    "            nn.ReLU(),                      \n",
    "            nn.MaxPool2d(2),                \n",
    "        )\n",
    "        self.conv3 = nn.Sequential(         \n",
    "            nn.Conv2d(32, 32, 3, 1, 2),     \n",
    "            nn.ReLU(),                      \n",
    "            nn.MaxPool2d(2),                \n",
    "        )\n",
    "        self.conv4 = nn.Sequential(\n",
    "            nn.Conv2d(32, 16, 3, 1, 2),\n",
    "            nn.ReLU(),\n",
    "            nn.MaxPool2d(2)\n",
    "        )     \n",
    "        self.dropout = nn.Dropout(p=0.5)\n",
    "        self.out = nn.Linear(576, 3)   \n",
    "\n",
    "    def forward(self, x):\n",
    "        x = self.conv1(x)\n",
    "        x = self.conv2(x)\n",
    "        x = self.conv3(x)\n",
    "        x = self.conv4(x)\n",
    "\n",
    "        x = x.view(x.size(0), -1)\n",
    "        x = self.dropout(x) \n",
    "        output = self.out(x)\n",
    "        return output"
   ]
  },
  {
   "cell_type": "code",
   "execution_count": 215,
   "metadata": {
    "collapsed": true
   },
   "outputs": [],
   "source": [
    "cnn = shallow_CNN()"
   ]
  },
  {
   "cell_type": "code",
   "execution_count": 216,
   "metadata": {},
   "outputs": [
    {
     "data": {
      "text/plain": [
       "<bound method Module.modules of shallow_CNN(\n",
       "  (conv1): Sequential(\n",
       "    (0): Conv2d (3, 32, kernel_size=(3, 3), stride=(1, 1), padding=(2, 2))\n",
       "    (1): ReLU()\n",
       "    (2): MaxPool2d(kernel_size=(2, 2), stride=(2, 2), dilation=(1, 1))\n",
       "  )\n",
       "  (conv2): Sequential(\n",
       "    (0): Conv2d (32, 32, kernel_size=(3, 3), stride=(1, 1), padding=(2, 2))\n",
       "    (1): ReLU()\n",
       "    (2): MaxPool2d(kernel_size=(2, 2), stride=(2, 2), dilation=(1, 1))\n",
       "  )\n",
       "  (conv3): Sequential(\n",
       "    (0): Conv2d (32, 32, kernel_size=(3, 3), stride=(1, 1), padding=(2, 2))\n",
       "    (1): ReLU()\n",
       "    (2): MaxPool2d(kernel_size=(2, 2), stride=(2, 2), dilation=(1, 1))\n",
       "  )\n",
       "  (conv4): Sequential(\n",
       "    (0): Conv2d (32, 16, kernel_size=(3, 3), stride=(1, 1), padding=(2, 2))\n",
       "    (1): ReLU()\n",
       "    (2): MaxPool2d(kernel_size=(2, 2), stride=(2, 2), dilation=(1, 1))\n",
       "  )\n",
       "  (dropout): Dropout(p=0.5)\n",
       "  (out): Linear(in_features=576, out_features=3)\n",
       ")>"
      ]
     },
     "execution_count": 216,
     "metadata": {},
     "output_type": "execute_result"
    }
   ],
   "source": [
    "cnn.modules"
   ]
  },
  {
   "cell_type": "code",
   "execution_count": null,
   "metadata": {
    "collapsed": true
   },
   "outputs": [],
   "source": [
    "cnn"
   ]
  }
 ],
 "metadata": {
  "kernelspec": {
   "display_name": "Data_Science_36",
   "language": "python",
   "name": "other-env"
  },
  "language_info": {
   "codemirror_mode": {
    "name": "ipython",
    "version": 3
   },
   "file_extension": ".py",
   "mimetype": "text/x-python",
   "name": "python",
   "nbconvert_exporter": "python",
   "pygments_lexer": "ipython3",
   "version": "3.6.4"
  }
 },
 "nbformat": 4,
 "nbformat_minor": 2
}
