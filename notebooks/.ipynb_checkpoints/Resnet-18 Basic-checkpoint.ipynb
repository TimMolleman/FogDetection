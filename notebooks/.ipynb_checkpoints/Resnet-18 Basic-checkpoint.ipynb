{
 "cells": [
  {
   "cell_type": "code",
   "execution_count": 1,
   "metadata": {},
   "outputs": [
    {
     "name": "stderr",
     "output_type": "stream",
     "text": [
      "/Users/timmolleman/anaconda3/envs/data_science_36/lib/python3.6/site-packages/h5py/__init__.py:36: FutureWarning: Conversion of the second argument of issubdtype from `float` to `np.floating` is deprecated. In future, it will be treated as `np.float64 == np.dtype(float).type`.\n",
      "  from ._conv import register_converters as _register_converters\n"
     ]
    }
   ],
   "source": [
    "import numpy as np\n",
    "import pandas as pd\n",
    "import os\n",
    "import torch\n",
    "import torchvision\n",
    "import torchsample\n",
    "import psycopg2\n",
    "import random\n",
    "import re\n",
    "import time\n",
    "import csv\n",
    "import copy\n",
    "\n",
    "from torch.autograd import Variable\n",
    "import torch.nn as nn\n",
    "import torch.optim as optim\n",
    "import torch.nn.functional as F\n",
    "import torch.utils.data as data_utils\n",
    "from torch.utils.data import DataLoader\n",
    "from torch.utils.data.dataset import Dataset\n",
    "from torch.utils.data.sampler import WeightedRandomSampler\n",
    "from torchvision import models\n",
    "from torchvision import transforms\n",
    "from torchsample import transforms as ts_transforms\n",
    "\n",
    "from matplotlib import pyplot as plt\n",
    "from PIL import Image\n",
    "from scipy.ndimage import imread\n",
    "from sklearn.model_selection import train_test_split\n",
    "from sklearn.decomposition import PCA\n",
    "from sklearn.metrics import f1_score\n",
    "from sklearn.metrics import precision_score\n",
    "from sklearn.metrics import recall_score\n",
    "\n",
    "from mpl_toolkits.mplot3d import Axes3D\n",
    "from mlxtend.evaluate import confusion_matrix\n",
    "from mlxtend.plotting import plot_confusion_matrix"
   ]
  },
  {
   "cell_type": "code",
   "execution_count": 9,
   "metadata": {},
   "outputs": [],
   "source": [
    "test_features = np.load('../data/processed/test_images.npy')\n",
    "test_targets = np.load('../data/processed/test_targets.npy')\n",
    "test_filepaths = np.load('../data/processed/test_filepaths.npy')"
   ]
  },
  {
   "cell_type": "code",
   "execution_count": null,
   "metadata": {
    "collapsed": true
   },
   "outputs": [],
   "source": [
    "X_train = np.load('../data/processed/chec')\n",
    "y_train =\n",
    "y_paths ="
   ]
  },
  {
   "cell_type": "code",
   "execution_count": 42,
   "metadata": {},
   "outputs": [
    {
     "ename": "NameError",
     "evalue": "name 'targets' is not defined",
     "output_type": "error",
     "traceback": [
      "\u001b[0;31m---------------------------------------------------------------------------\u001b[0m",
      "\u001b[0;31mNameError\u001b[0m                                 Traceback (most recent call last)",
      "\u001b[0;32m<ipython-input-42-d5aa1d61b2e7>\u001b[0m in \u001b[0;36m<module>\u001b[0;34m()\u001b[0m\n\u001b[0;32m----> 1\u001b[0;31m \u001b[0mclass_dense\u001b[0m \u001b[0;34m=\u001b[0m \u001b[0mlist\u001b[0m\u001b[0;34m(\u001b[0m\u001b[0mnp\u001b[0m\u001b[0;34m.\u001b[0m\u001b[0mwhere\u001b[0m\u001b[0;34m(\u001b[0m\u001b[0mtargets\u001b[0m\u001b[0;34m==\u001b[0m\u001b[0;36m2\u001b[0m\u001b[0;34m)\u001b[0m\u001b[0;34m)\u001b[0m\u001b[0;34m\u001b[0m\u001b[0m\n\u001b[0m\u001b[1;32m      2\u001b[0m \u001b[0mclass_light\u001b[0m \u001b[0;34m=\u001b[0m \u001b[0mlist\u001b[0m\u001b[0;34m(\u001b[0m\u001b[0mnp\u001b[0m\u001b[0;34m.\u001b[0m\u001b[0mwhere\u001b[0m\u001b[0;34m(\u001b[0m\u001b[0mtargets\u001b[0m\u001b[0;34m==\u001b[0m\u001b[0;36m1\u001b[0m\u001b[0;34m)\u001b[0m\u001b[0;34m)\u001b[0m\u001b[0;34m\u001b[0m\u001b[0m\n",
      "\u001b[0;31mNameError\u001b[0m: name 'targets' is not defined"
     ]
    }
   ],
   "source": [
    "class_dense = list(np.where(targets==2))\n",
    "class_light = list(np.where(targets==1))"
   ]
  },
  {
   "cell_type": "markdown",
   "metadata": {},
   "source": [
    "### Class Proportions (for Weighted Sampling)"
   ]
  },
  {
   "cell_type": "code",
   "execution_count": 78,
   "metadata": {},
   "outputs": [
    {
     "ename": "NameError",
     "evalue": "name 'y_validation' is not defined",
     "output_type": "error",
     "traceback": [
      "\u001b[0;31m---------------------------------------------------------------------------\u001b[0m",
      "\u001b[0;31mNameError\u001b[0m                                 Traceback (most recent call last)",
      "\u001b[0;32m<ipython-input-78-27f824c94dba>\u001b[0m in \u001b[0;36m<module>\u001b[0;34m()\u001b[0m\n\u001b[1;32m      1\u001b[0m \u001b[0;31m# Get the class proportions\u001b[0m\u001b[0;34m\u001b[0m\u001b[0;34m\u001b[0m\u001b[0m\n\u001b[0;32m----> 2\u001b[0;31m \u001b[0mclass_counts\u001b[0m \u001b[0;34m=\u001b[0m \u001b[0mnp\u001b[0m\u001b[0;34m.\u001b[0m\u001b[0mbincount\u001b[0m\u001b[0;34m(\u001b[0m\u001b[0my_validation\u001b[0m\u001b[0;34m.\u001b[0m\u001b[0mastype\u001b[0m\u001b[0;34m(\u001b[0m\u001b[0mint\u001b[0m\u001b[0;34m)\u001b[0m\u001b[0;34m)\u001b[0m\u001b[0;34m\u001b[0m\u001b[0m\n\u001b[0m\u001b[1;32m      3\u001b[0m \u001b[0mtotal\u001b[0m \u001b[0;34m=\u001b[0m \u001b[0mlen\u001b[0m\u001b[0;34m(\u001b[0m\u001b[0my_validation\u001b[0m\u001b[0;34m)\u001b[0m\u001b[0;34m\u001b[0m\u001b[0m\n\u001b[1;32m      4\u001b[0m \u001b[0mproportion_0\u001b[0m \u001b[0;34m=\u001b[0m \u001b[0mclass_counts\u001b[0m\u001b[0;34m[\u001b[0m\u001b[0;36m0\u001b[0m\u001b[0;34m]\u001b[0m \u001b[0;34m/\u001b[0m \u001b[0mtotal\u001b[0m\u001b[0;34m\u001b[0m\u001b[0m\n\u001b[1;32m      5\u001b[0m \u001b[0mproportion_1\u001b[0m \u001b[0;34m=\u001b[0m \u001b[0mclass_counts\u001b[0m\u001b[0;34m[\u001b[0m\u001b[0;36m1\u001b[0m\u001b[0;34m]\u001b[0m \u001b[0;34m/\u001b[0m \u001b[0mtotal\u001b[0m\u001b[0;34m\u001b[0m\u001b[0m\n",
      "\u001b[0;31mNameError\u001b[0m: name 'y_validation' is not defined"
     ]
    }
   ],
   "source": [
    "# Get the class proportions\n",
    "class_counts = np.bincount(y_validation.astype(int))\n",
    "total = len(y_validation)\n",
    "proportion_0 = class_counts[0] / total\n",
    "proportion_1 = class_counts[1] / total\n",
    "proportion_2 = class_counts[2] / total\n",
    "\n",
    "print('Class percentages:\\nNo fog: {:.2f}%\\nFog: {:.2f}%\\nDense fog: {:.2f}%'.format(proportion_0 * 100,\n",
    "                                                                              proportion_1 * 100, proportion_2 * 100))\n",
    "print(class_counts)"
   ]
  },
  {
   "cell_type": "markdown",
   "metadata": {},
   "source": [
    "### Class Weighting"
   ]
  },
  {
   "cell_type": "code",
   "execution_count": null,
   "metadata": {
    "collapsed": true
   },
   "outputs": [],
   "source": [
    "# List containing class probabilities\n",
    "probabilities = [proportion_0, proportion_1, proportion_2]\n",
    "reciprocal_weights = []\n",
    "\n",
    "# Put weight at every index\n",
    "for i in range(len(X_train)):\n",
    "    reciprocal_weights.append(probabilities[train_targets[i]])\n",
    "\n",
    "# Inverse of probabilities as weights\n",
    "weights = (1 / torch.Tensor(reciprocal_weights))\n",
    "sampler = torch.utils.data.sampler.WeightedRandomSampler(weights.double(), len(X_train))\n",
    "\n",
    "# Inverse weights for all the datapoints\n",
    "inverse_weights_class = 1 / torch.Tensor(probabilities)\n",
    "\n",
    "# Inverse weights per class\n",
    "inverse_weights = 1 / torch.Tensor(probabilities)"
   ]
  },
  {
   "cell_type": "markdown",
   "metadata": {},
   "source": [
    "### Transformations"
   ]
  },
  {
   "cell_type": "code",
   "execution_count": 12,
   "metadata": {
    "collapsed": true
   },
   "outputs": [],
   "source": [
    "data_transforms = {\n",
    "    'train': transforms.Compose([\n",
    "        transforms.ToPILImage(),\n",
    "        transforms.RandomCrop(80),\n",
    "        transforms.RandomHorizontalFlip(),\n",
    "        transforms.ToTensor(),\n",
    "        transforms.Normalize([0.485, 0.456, 0.406], [0.229, 0.224, 0.225])\n",
    "    ]),\n",
    "    'validation': transforms.Compose([\n",
    "        transforms.ToPILImage(),\n",
    "        transforms.CenterCrop(80),\n",
    "        transforms.ToTensor(),\n",
    "        transforms.Normalize([0.485, 0.456, 0.406], [0.229, 0.224, 0.225])\n",
    "    ]),\n",
    "}"
   ]
  },
  {
   "cell_type": "markdown",
   "metadata": {},
   "source": [
    "### Define Dataset Class"
   ]
  },
  {
   "cell_type": "code",
   "execution_count": 7,
   "metadata": {
    "collapsed": true,
    "scrolled": true
   },
   "outputs": [],
   "source": [
    "class KNMIDataset(Dataset):\n",
    "    def __init__(self, images, targets, filepaths, transforms=None):\n",
    "    \n",
    "        self.transforms = transforms\n",
    "        self.images = images\n",
    "        self.targets = targets\n",
    "        self.filepaths = filepaths\n",
    "        \n",
    "    def __getitem__(self, index):\n",
    "        image = self.images[index]\n",
    "        \n",
    "        if self.transforms != None:\n",
    "            image = self.transforms(image)\n",
    "        \n",
    "        target = self.targets[index]\n",
    "        filepath = self.filepaths[index]\n",
    "        \n",
    "        return (image, target, index, filepath)\n",
    "\n",
    "    def __len__(self):\n",
    "        return len(self.targets)"
   ]
  },
  {
   "cell_type": "markdown",
   "metadata": {},
   "source": [
    "### Create Datasets and Dataloaders"
   ]
  },
  {
   "cell_type": "code",
   "execution_count": null,
   "metadata": {
    "collapsed": true
   },
   "outputs": [],
   "source": [
    "BATCH_SIZE = 164\n",
    "\n",
    "# Datasets\n",
    "train_dataset = KNMIDataset(X_train, train_targets, paths_train, transforms=data_transforms['train'])\n",
    "validation_dataset = KNMIDataset(X_validation, validation_targets, paths_validation, transforms=data_transforms['validation'])\n",
    "\n",
    "# Data loaders\n",
    "train_loader = DataLoader(dataset=train_dataset, batch_size=BATCH_SIZE, shuffle=True)\n",
    "validation_loader = DataLoader(dataset=validation_dataset, batch_size=BATCH_SIZE)\n",
    "\n",
    "loaders = {'train': train_loader, 'validation': validation_loader}"
   ]
  },
  {
   "cell_type": "markdown",
   "metadata": {},
   "source": [
    "### Check Batch Iteration Size of Trainloader"
   ]
  },
  {
   "cell_type": "code",
   "execution_count": null,
   "metadata": {
    "collapsed": true
   },
   "outputs": [],
   "source": [
    "# Iteration for one train/testloader batch\n",
    "img, labels, idx, paths = next(iter(validation_loader))\n",
    "inputs, labels = Variable(img), Variable(labels)\n",
    "print('Loader image tensor shape: {}\\nLoader targets tensor shape: {}'.format(inputs.size(), labels.size()))"
   ]
  },
  {
   "cell_type": "markdown",
   "metadata": {},
   "source": [
    "## Plotting Functions"
   ]
  },
  {
   "cell_type": "markdown",
   "metadata": {},
   "source": [
    "### Confusion Matrix"
   ]
  },
  {
   "cell_type": "code",
   "execution_count": 26,
   "metadata": {
    "collapsed": true
   },
   "outputs": [],
   "source": [
    " # Confusion matrix helper\n",
    "def show_cm(targets, predictions):\n",
    "    cm = confusion_matrix(y_target=targets, \n",
    "                      y_predicted=predictions, \n",
    "                      binary=False)\n",
    "\n",
    "    fig, ax = plot_confusion_matrix(conf_mat=cm)\n",
    "    plt.show()"
   ]
  },
  {
   "cell_type": "markdown",
   "metadata": {},
   "source": [
    "### Loss Curve Plotting"
   ]
  },
  {
   "cell_type": "code",
   "execution_count": 19,
   "metadata": {
    "collapsed": true
   },
   "outputs": [],
   "source": [
    "def plot_loss_curves(training_loss, validation_loss):\n",
    "    \"\"\"\n",
    "    Plots loss curves after model training.\n",
    "    \n",
    "    :param training_loss: List with training loss for every epoch.\n",
    "    :param validation_loss: List with validation loss for every epoch.\n",
    "    \"\"\"\n",
    "    train_plot, = plt.plot(training_loss, label='Training')\n",
    "    val_plot, = plt.plot(validation_loss, label='Validation')\n",
    "    plt.title('Loss curves (training/validation)')\n",
    "    plt.xlabel('Epoch')\n",
    "    plt.ylabel('Loss')\n",
    "    plt.legend(handles=[train_plot, val_plot])\n",
    "    plt.show()"
   ]
  },
  {
   "cell_type": "markdown",
   "metadata": {},
   "source": [
    "### Certain/Uncertain Images Plotting"
   ]
  },
  {
   "cell_type": "code",
   "execution_count": null,
   "metadata": {
    "collapsed": true
   },
   "outputs": [],
   "source": [
    "def plot_images(loss, image_index, filepaths, targets, predictions, phase, amount=5):\n",
    "    \"\"\"\n",
    "    Use to plot images that the model is most certain about and which it was most uncertain about.\n",
    "    \n",
    "    :param loss: Tensor that has size of batch containing loss\n",
    "    :param filepaths: List with filepaths that point to where batch images are located\n",
    "    :param amount: Amount of images to show. Default: 1\n",
    "    \"\"\"\n",
    "    \n",
    "    def loop_plot(indices, targets, predictions, filepaths, losses, phase):    \n",
    "        fig=plt.figure(figsize=(20, 5))\n",
    "        columns = 5\n",
    "        rows = 1\n",
    "        \n",
    "        # Determine phase and get image np array\n",
    "        if phase == 'train':\n",
    "            image_array = X_train\n",
    "        elif phase == 'validation':\n",
    "            image_array = X_validation\n",
    "        else:\n",
    "            image_array = test_images\n",
    "        print(filepaths)\n",
    "        # Loop over the data and plot 'amount' of images\n",
    "        for i, (index, target, prediction, loss) in enumerate(zip(indices, targets, predictions, losses)):\n",
    "            img = image_array[index]\n",
    "            fig.add_subplot(rows, columns, i + 1)\n",
    "            plt.title('target: {}, prediction: {} loss: {:.2f}'.format(target, prediction, loss))\n",
    "            plt.imshow(img)\n",
    "      \n",
    "        plt.show()\n",
    "    \n",
    "    def get_k_and_plot(loss, amount, targets, image_index, filepaths, predictions, phase, largest=True):\n",
    "        # Get all relevant data\n",
    "        values, indices = torch.topk(loss, amount, largest=largest)\n",
    "        targets = [targets[i].data[0] for i in list(indices.data.numpy().reshape((1, -1))[0])]\n",
    "        images_idx = [image_index[i] for i in list(indices.data.numpy().reshape((1, -1))[0])]\n",
    "        filepaths = [filepaths[i] for i in list(indices.data.numpy().reshape((1, -1))[0])]\n",
    "        predictions = [predictions[i] for i in list(indices.data.numpy().reshape((1, -1))[0])]\n",
    "        loss = [loss.data[i] for i in list(indices.data.numpy().reshape((1, -1))[0])]\n",
    "\n",
    "        # Show images (uncertain/certain)\n",
    "        loop_plot(images_idx, targets, predictions, filepaths, loss, phase)\n",
    "\n",
    "    print('Top {} most uncertain images'.format(amount))\n",
    "    get_k_and_plot(loss, amount, targets, image_index, filepaths, predictions, phase, largest=True)\n",
    "\n",
    "    print('Top {} most certain images'.format(amount))\n",
    "    get_k_and_plot(loss, amount, targets, image_index, filepaths, predictions, phase, largest=False)"
   ]
  },
  {
   "cell_type": "markdown",
   "metadata": {},
   "source": [
    "## Model Training"
   ]
  },
  {
   "cell_type": "markdown",
   "metadata": {},
   "source": [
    "### Main Training Function"
   ]
  },
  {
   "cell_type": "code",
   "execution_count": 47,
   "metadata": {
    "collapsed": true
   },
   "outputs": [],
   "source": [
    "def train_model(model, criterion, optimizer, num_epochs):\n",
    "    \"\"\"\n",
    "    Does the actual training of the models.\n",
    "    \n",
    "    :param model: Model object specified in 'run_model'.\n",
    "    :param criterion: Optimization criterion/loss.\n",
    "    :param optimizer: Type of optimizer.\n",
    "    :param num_epochs: Number of epochs to train.\n",
    "    \"\"\"\n",
    "    start = time.time()\n",
    "\n",
    "    # For storing loss for curve, best model and best accuracy\n",
    "    train_loss, validation_loss = [],[]\n",
    "    best_model = model\n",
    "    best_accuracy = 0.0\n",
    "    best_f1macro = 0.0\n",
    "\n",
    "    for epoch in range(num_epochs):\n",
    "\n",
    "        # Running loss and correct predictions\n",
    "        running_loss_train = 0.0\n",
    "        running_correct_train = 0.0\n",
    "        running_loss_val = 0.0\n",
    "        running_correct_val = 0.0\n",
    "        epoch_validation_targets = []\n",
    "        epoch_validation_predictions = []\n",
    "\n",
    "        for phase in ['train', 'validation']:\n",
    "\n",
    "            # Change model mode according to phase \n",
    "            if phase == 'train':\n",
    "                model.train()\n",
    "            else:\n",
    "                model.eval()\n",
    "\n",
    "            # Iterate over batches in loader\n",
    "            for i, (image_tensor, label_tensor, image_index, filepaths) in enumerate(loaders[phase]):\n",
    "\n",
    "                features = Variable(image_tensor)\n",
    "                targets = Variable(label_tensor.view(-1))\n",
    "\n",
    "                # Forward + Backward + Optimize\n",
    "                if phase == 'train':\n",
    "                    optimizer.zero_grad()\n",
    "\n",
    "                outputs = model(features)\n",
    "\n",
    "                # Get prediction index and no. correct predictions\n",
    "                _, predictions = torch.max(outputs.data, 1) \n",
    "                \n",
    "                # Kijk hier uit dat die testloader precies aantal batches in de validation data haalt \n",
    "                correct = torch.sum(predictions == targets.data) \n",
    "\n",
    "                # Loss and optimization\n",
    "                loss = criterion(outputs, targets)\n",
    "                \n",
    "                # Average the loss\n",
    "                total_loss = torch.mean(loss)\n",
    "                \n",
    "                # Only do backpropagation if in the training phase\n",
    "                if phase == 'train':\n",
    "                    total_loss.backward()\n",
    "                    optimizer.step()\n",
    "\n",
    "                # Running loss and number of correct predictions\n",
    "                if phase == 'train':\n",
    "                    running_loss_train += total_loss.data[0]\n",
    "                    running_correct_train += correct\n",
    "                else:\n",
    "                    running_loss_val += total_loss.data[0]\n",
    "                    running_correct_val += correct\n",
    "                    epoch_validation_targets.extend(list(targets.data))\n",
    "                    epoch_validation_predictions.extend(list(predictions))\n",
    "                    \n",
    "                    # Plot images in validation phase\n",
    "                    plot_images(loss, image_index, filepaths, targets, predictions, phase)\n",
    "\n",
    "                # If model is in training phase, show loss every N iterations\n",
    "                if (i+1) % 5 == 0:\n",
    "                    if phase == 'train':\n",
    "                        print ('Epoch {}/{}, Iteration {}/{} Train Running Loss: {:.4f}'.format(epoch+1, num_epochs, i+1, \n",
    "                                                                                    len(X_train)//BATCH_SIZE, \n",
    "                                                                                    running_loss_train / i))\n",
    "#                         plot_images(loss, image_index, filepaths, targets, predictions, phase)\n",
    "                    \n",
    "\n",
    "        # Epoch losses and epoch train accuracies\n",
    "        epoch_train_loss = running_loss_train / (len(X_train)//BATCH_SIZE)\n",
    "        epoch_train_accuracy = (running_correct_train / (len(X_train)//BATCH_SIZE)) / BATCH_SIZE * 100\n",
    "        epoch_val_loss = running_loss_val / len(X_validation//BATCH_SIZE)\n",
    "        epoch_val_accuracy= running_correct_val / len(X_validation) * 100\n",
    "        \n",
    "        # F1-score\n",
    "        f1_macro = f1_score(epoch_validation_targets, epoch_validation_predictions, average='macro')\n",
    "        f1_micro = f1_score(epoch_validation_targets, epoch_validation_predictions, average='micro')\n",
    "        precision = precision_score(epoch_validation_targets, epoch_validation_predictions, average='macro')\n",
    "        recall = recall_score(epoch_validation_targets, epoch_validation_predictions, average='macro')\n",
    "\n",
    "        # Print the average epoch loss and the average prediction accuracy\n",
    "        print('\\nEpoch {}/{}, Train Loss: {:.4f}, Train Accuracy: {:.4f}%\\n'\n",
    "              'Validation Loss: {:.4f}, Validation Accuracy: {:.4f}%, f1-score {:.4f}\\n'.format(epoch + 1, \n",
    "                                                                    num_epochs, epoch_train_loss, epoch_train_accuracy,\n",
    "                                                                     epoch_val_loss, epoch_val_accuracy, f1))\n",
    "        \n",
    "        # Safe best model and best accuracy \n",
    "        if phase == 'validation':\n",
    "            if epoch_val_accuracy > best_accuracy:\n",
    "                best_accuracy = epoch_val_accuracy\n",
    "                best_model = copy.deepcopy(model)\n",
    "\n",
    "        # Show the confusion matrix for validation targets/predictions\n",
    "        show_cm(epoch_validation_targets, epoch_validation_predictions)\n",
    "        \n",
    "        # Append losses\n",
    "        train_loss.append(epoch_train_loss)\n",
    "        validation_loss.append(epoch_val_loss)\n",
    "        \n",
    "    # Elapsed time and best accuracy\n",
    "    elapsed_time = time.time() - start\n",
    "    print('Training was completed in {:.0f}m {:.0f}s\\n'.format(elapsed_time//60, elapsed_time%60))\n",
    "    print('Best validation accuracy: {:4f}%'.format(best_accuracy))\n",
    "    \n",
    "    # Plot loss curves\n",
    "    plot_loss_curves(train_loss, validation_loss)\n",
    "    \n",
    "    # Return the best model\n",
    "    return best_model"
   ]
  },
  {
   "cell_type": "markdown",
   "metadata": {},
   "source": [
    "### Run Model Function"
   ]
  },
  {
   "cell_type": "code",
   "execution_count": 48,
   "metadata": {
    "collapsed": true
   },
   "outputs": [],
   "source": [
    "def run_model(model, epochs, learning_rate, train_from_layer=False, last_layer_trained=False, not_self_defined=True):\n",
    "    '''\n",
    "    Configures model object and then calls 'train_model' for model training. \n",
    "    \n",
    "    :param train_from_layer: Specify number of layers before fully-connected to also be finetuned. Default is False,\n",
    "    which will just train the fc layers. Give a number to specify number of layers before that. \n",
    "    :param model: This is a (pre-trained) model that will be further finetuned.\n",
    "    :param epochs: Number of epochs to train.\n",
    "    :param learning_rate: Learning rate for the parameters.\n",
    "    :param not_self_defined: True if model architecture is used from torchvision. False if model is self-defined. \n",
    "    '''\n",
    "    \n",
    "    if not_self_defined:\n",
    "      \n",
    "        # Set all parameter training to false\n",
    "        for parameter in model.parameters():\n",
    "            parameter.requires_grad = False\n",
    "\n",
    "        # Select number of pre-trained layers to finetune\n",
    "        if train_from_layer != False:\n",
    "            ct = 0\n",
    "            print(ct)\n",
    "\n",
    "            for name, child in model.named_children():\n",
    "                ct += 1\n",
    "\n",
    "                if ct > train_from_layer:\n",
    "                    for name2, params in child.named_parameters():\n",
    "                        params.requires_grad = True\n",
    "\n",
    "          # Get parameters that need finetuning\n",
    "            optim_params = filter(lambda p: p.requires_grad, model.parameters())\n",
    "\n",
    "    # Adjust final layer to number of classes if last layer has not been trained yet\n",
    "    if last_layer_trained == False:\n",
    "        num_features = model.fc.in_features\n",
    "        model.fc = nn.Linear(num_features, TARGET_SIZE)\n",
    "        optim_params = model.fc.parameters()\n",
    "    \n",
    "    # Train all parameters if model is not predefined from torchvision\n",
    "    else: \n",
    "        optim_params = filter(lambda p: p.requires_grad, model.parameters())\n",
    "    \n",
    "    if torch.cuda.is_available():\n",
    "        inverse_weights.cuda()\n",
    "        model = model.cuda()\n",
    "    \n",
    "    # Optimizers and loss criterions\n",
    "    criterion = nn.CrossEntropyLoss(reduce=False, weight=inverse_weights)\n",
    "    optimizer = optim.Adam(optim_params, lr=learning_rate)        \n",
    "    \n",
    "    # Train and save\n",
    "    trained_model = train_model(model, criterion, optimizer, epochs)\n",
    "    \n",
    "    return trained_model"
   ]
  },
  {
   "cell_type": "markdown",
   "metadata": {},
   "source": [
    "### Resnet 18"
   ]
  },
  {
   "cell_type": "code",
   "execution_count": null,
   "metadata": {
    "collapsed": true
   },
   "outputs": [],
   "source": [
    "lr_classifier = 2e-4\n",
    "lr_tuner = 1e-4\n",
    "\n",
    "# Train last FC layer of resnet 18\n",
    "resnet_18 = models.resnet18(pretrained=True)\n",
    "resnet_18.avgpool = nn.AdaptiveAvgPool2d(1)\n",
    "resnet_18_trained = run_model(resnet_18, 10, lr_classifier, False)\n",
    "\n",
    "# Tune also the last convolutional layer\n",
    "# resnet_18_tuned = run_model(resnet_18_trained, 15, lr_tuner, train_from_layer=7)"
   ]
  },
  {
   "cell_type": "markdown",
   "metadata": {},
   "source": [
    "### Simple Network"
   ]
  },
  {
   "cell_type": "code",
   "execution_count": 34,
   "metadata": {
    "collapsed": true
   },
   "outputs": [],
   "source": [
    "class simple_CNN(nn.Module):\n",
    "    def __init__(self):\n",
    "        super(simple_CNN, self).__init__()\n",
    "        self.conv1 = nn.Sequential(         # input shape (1, 28, 28)\n",
    "            nn.Conv2d(\n",
    "                in_channels=3,              # input height\n",
    "                out_channels=16,            # n_filters\n",
    "                kernel_size=3,              # filter size\n",
    "                stride=1,                   # filter movement/step\n",
    "                padding=2,                  # if want same width and length of this image after con2d, padding=(kernel_size-1)/2 if stride=1\n",
    "            ),                              # output shape (16, 28, 28)\n",
    "            nn.ReLU(),                      # activation\n",
    "            nn.MaxPool2d(kernel_size=2),    # choose max value in 2x2 area, output shape (16, 14, 14)\n",
    "        )\n",
    "        self.conv2 = nn.Sequential(         # input shape (16, 14, 14)\n",
    "            nn.Conv2d(16, 32, 3, 1, 2),     # output shape (32, 14, 14)\n",
    "            nn.ReLU(),                      # activation\n",
    "            nn.MaxPool2d(2),                # output shape (32, 7, 7)\n",
    "        )\n",
    "        self.conv3 = nn.Sequential(         # input shape (16, 14, 14)\n",
    "            nn.Conv2d(32, 32, 3, 1, 2),     # output shape (32, 14, 14)\n",
    "            nn.ReLU(),                      # activation\n",
    "            nn.MaxPool2d(2),                # output shape (32, 7, 7)\n",
    "        )\n",
    "        self.dropout = nn.Dropout(p=0.5)\n",
    "        self.out = nn.Linear(3872, 3)   # fully connected layer, output 3 classes\n",
    "\n",
    "    def forward(self, x):\n",
    "        x = self.conv1(x)\n",
    "        x = self.conv2(x)\n",
    "        x = self.conv3(x)\n",
    "        x = x.view(x.size(0), -1)           # flatten the output of conv2 to (batch_size, 32 * 7 * 7)\n",
    "        x = self.dropout(x) \n",
    "        output = self.out(x)\n",
    "        return output   # return x for visualization"
   ]
  },
  {
   "cell_type": "code",
   "execution_count": null,
   "metadata": {
    "collapsed": true
   },
   "outputs": [],
   "source": [
    "simple_model = simple_CNN()\n",
    "run_model(simple_model, 10, 0.001, False, False)"
   ]
  },
  {
   "cell_type": "markdown",
   "metadata": {},
   "source": [
    "## Pre-trained Model Loader"
   ]
  },
  {
   "cell_type": "code",
   "execution_count": 15,
   "metadata": {
    "collapsed": true
   },
   "outputs": [],
   "source": [
    "def load_model(filepath):\n",
    "    '''\n",
    "    Loads a trained model.\n",
    "    \n",
    "    :param filepath: Path to the trained model.\n",
    "    '''\n",
    "    loaded_model = torch.load(filepath, map_location=lambda storage, loc: storage)\n",
    "    return loaded_model"
   ]
  },
  {
   "cell_type": "code",
   "execution_count": 127,
   "metadata": {},
   "outputs": [
    {
     "data": {
      "text/plain": [
       "9"
      ]
     },
     "execution_count": 127,
     "metadata": {},
     "output_type": "execute_result"
    }
   ],
   "source": [
    "TRAINED_MODELS_DIR = '/Volumes/TIMPP/TrainedModels'\n",
    "\n",
    "loaded_checkpoint = load_model(TRAINED_MODELS_DIR + '/highway-images/resnet-18/Resnet18-FirstBest/classifier/resnet18_classifier.pth.tar')\n",
    "current_model_tuned = load_model(TRAINED_MODELS_DIR + '/highway-images/resnet-18/Resnet18-FirstBest/tuner/resnet18_tuner.pth.tar')"
   ]
  },
  {
   "cell_type": "code",
   "execution_count": 166,
   "metadata": {},
   "outputs": [
    {
     "data": {
      "text/plain": [
       "19"
      ]
     },
     "execution_count": 166,
     "metadata": {},
     "output_type": "execute_result"
    }
   ],
   "source": [
    "# current_model_trained = load_model(TRAINED_MODELS_DIR + '/highway-images/resnet18/classifier')\n",
    "loaded_checkpoint = load_model(TRAINED_MODELS_DIR + '/knmi-images/resnet18/tuner/KNMItuner.pth.tar')\n",
    "current_model_train = loaded_checkpoint['best_model']\n",
    "loaded_checkpoint['best_epoch']"
   ]
  },
  {
   "cell_type": "code",
   "execution_count": 128,
   "metadata": {},
   "outputs": [],
   "source": [
    "def concat_loss_lists(full_train):\n",
    "    '''\n",
    "    :param full_train: List of model trained models in different phases.\n",
    "    '''\n",
    "    train_loss = []\n",
    "    validation_loss = []\n",
    "    \n",
    "    for train_phase in full_train:\n",
    "        best_epoch = train_phase['best_epoch']\n",
    "        phase_train_loss = train_phase['train_loss'][:best_epoch] \n",
    "        phase_val_loss = train_phase['validation_loss'][:best_epoch]\n",
    "        \n",
    "        for i, j in zip(phase_train_loss, phase_val_loss):\n",
    "            train_loss.append(i)\n",
    "            validation_loss.append(j)\n",
    "    \n",
    "    return train_loss, validation_loss"
   ]
  },
  {
   "cell_type": "markdown",
   "metadata": {},
   "source": [
    "## Test Model Function"
   ]
  },
  {
   "cell_type": "markdown",
   "metadata": {},
   "source": [
    "### Test Dataset and Dataloader "
   ]
  },
  {
   "cell_type": "code",
   "execution_count": 13,
   "metadata": {},
   "outputs": [],
   "source": [
    "test_dataset = KNMIDataset(test_features, test_targets, test_filepaths, transforms=data_transforms['validation'])\n",
    "test_dataloader = DataLoader(dataset=test_dataset, batch_size=len(test_features))"
   ]
  },
  {
   "cell_type": "code",
   "execution_count": 153,
   "metadata": {
    "collapsed": true
   },
   "outputs": [],
   "source": [
    "loaded_checkpoint = load_model('../../../../Downloads/checkpoint21.pth.tar')\n",
    "current_model_train = loaded_checkpoint['state_dict']\n",
    "best_epoch = loaded_checkpoint['best_epoch']"
   ]
  },
  {
   "cell_type": "code",
   "execution_count": 168,
   "metadata": {},
   "outputs": [
    {
     "data": {
      "image/png": "[encoded data removed]",
      "text/plain": [
       "<matplotlib.figure.Figure at 0x12472dba8>"
      ]
     },
     "metadata": {},
     "output_type": "display_data"
    }
   ],
   "source": [
    "plot_loss_curves(loaded_checkpoint['train_loss'], loaded_checkpoint['validation_loss'])"
   ]
  },
  {
   "cell_type": "markdown",
   "metadata": {},
   "source": [
    "### Model Test Function"
   ]
  },
  {
   "cell_type": "code",
   "execution_count": 167,
   "metadata": {},
   "outputs": [
    {
     "name": "stdout",
     "output_type": "stream",
     "text": [
      "Test accuracy: 68.01%\n"
     ]
    },
    {
     "data": {
      "image/png": "[encoded data removed]",
      "text/plain": [
       "<matplotlib.figure.Figure at 0x13cb70d68>"
      ]
     },
     "metadata": {},
     "output_type": "display_data"
    }
   ],
   "source": [
    "def test_model(model, dataloader):\n",
    "    \"\"\"\n",
    "    Tests a specified model on all the manually labeled highway camera\n",
    "    images. \n",
    "    \n",
    "    :param model: Trained model to evaluate\n",
    "    :param test_features: All test features as tensor\n",
    "    :param test_targets: All test labels as tensor\n",
    "    \"\"\"\n",
    "    \n",
    "    test_images, test_targets, idx, test_filepaths = next(iter(dataloader))\n",
    "    \n",
    "    # Loss criterion\n",
    "    criterion = nn.CrossEntropyLoss(reduce=False)\n",
    "    \n",
    "    # Wrap tensors\n",
    "    features = Variable(test_images)\n",
    "    targets = Variable(test_targets)\n",
    "    total = len(targets)\n",
    "    \n",
    "    model.eval()\n",
    "    \n",
    "    # Feed test features into model\n",
    "    outputs = model(features)\n",
    "    \n",
    "    # Loss and optimization\n",
    "    loss = criterion(outputs, targets)\n",
    "    \n",
    "    # Get test predictions and number of correct predictions\n",
    "    _, predictions = torch.max(outputs.data, 1) \n",
    "    correct = torch.sum(predictions == targets.data)\n",
    "    \n",
    "    corrects = predictions == targets.data\n",
    "    \n",
    "#     for i, cor in enumerate(corrects):\n",
    "#         if predictions[i] == 2 and cor == 0 and test_targets[i] == 1:\n",
    "#             print(test_filepaths[i])\n",
    "#             print(test_targets[i])\n",
    "#             img = test_features[i]\n",
    "#             plt.imshow(img)\n",
    "#             plt.show()\n",
    "            \n",
    "    \n",
    "    image_indices = list(range(0, total))\n",
    "#     plot_images(loss, image_indices, test_filepaths, targets, predictions, phase='test')\n",
    "    \n",
    "    test_accuracy = correct / total * 100  \n",
    "    print('Test accuracy: {:.2f}%'.format(test_accuracy))\n",
    "    show_cm(list(targets.data), list(predictions))\n",
    "    \n",
    "test_model(current_model_train, test_dataloader)"
   ]
  }
 ],
 "metadata": {
  "kernelspec": {
   "display_name": "Data_Science_36",
   "language": "python",
   "name": "other-env"
  },
  "language_info": {
   "codemirror_mode": {
    "name": "ipython",
    "version": 3
   },
   "file_extension": ".py",
   "mimetype": "text/x-python",
   "name": "python",
   "nbconvert_exporter": "python",
   "pygments_lexer": "ipython3",
   "version": "3.6.4"
  }
 },
 "nbformat": 4,
 "nbformat_minor": 2
}
